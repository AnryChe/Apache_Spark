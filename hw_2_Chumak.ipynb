﻿{
  "metadata": {
    "name": "hw_2_Chumak",
    "kernelspec": {
      "language": "scala",
      "name": "spark2-scala"
    },
    "language_info": {
      "codemirror_mode": "text/x-scala",
      "file_extension": ".scala",
      "mimetype": "text/x-scala",
      "name": "scala",
      "pygments_lexer": "scala"
    }
  },
  "nbformat": 4,
  "nbformat_minor": 2,
  "cells": [
    {
      "cell_type": "markdown",
      "metadata": {},
      "source": ".\n.\n.\nНужно скопировать себе эту тетрадку и предоставить доступ к копии на чтение, запись и запуск тетрадки пользователю admin. Параграфы с генерацией данных и созданием семплов запускать не нужно, они оставлены для ознакомления"
    },
    {
      "cell_type": "code",
      "execution_count": 1,
      "metadata": {
        "autoscroll": "auto"
      },
      "outputs": [],
      "source": "import org.apache.spark.mllib.random.RandomRDDs._\nimport java.time.LocalDate\nimport java.time.format.DateTimeFormatter\n\nval dates \u003d (0 to 7).map(LocalDate.of(2020, 11, 1).plusDays(_).format(DateTimeFormatter.ofPattern(\"yyyy-MM-dd\"))).toSeq\n\ndef generateCity(r: Double): String \u003d if (r \u003c 0.9) \"BIG_CITY\" else \"SMALL_CITY_\" + scala.math.round((r - 0.9) * 1000)\n\ndef generateCityUdf \u003d udf(generateCity _)\n\n// spark.sql(\"drop table hw2.events_full\")\n\nfor(i \u003c- dates) {\n    uniformRDD(sc, 10000000L, 1)\n    .toDF(\"uid\")\n    .withColumn(\"date\", lit(i))\n    .withColumn(\"city\", generateCityUdf($\"uid\"))\n    .selectExpr(\"date\", \" sha2(cast(uid as STRING), 256) event_id\", \"city\")\n    .withColumn(\"skew_key\", when($\"city\" \u003d\u003d\u003d \"BIG_CITY\", lit(\"big_event\")).otherwise($\"event_id\"))\n    .write.mode(\"append\")\n    .partitionBy(\"date\")\n    .saveAsTable(\"hw2.events_full\")\n}\n"
    },
    {
      "cell_type": "code",
      "execution_count": 2,
      "metadata": {
        "autoscroll": "auto"
      },
      "outputs": [],
      "source": "spark.table(\"hw2.events_full\")\n.select(\"event_id\")\n.sample(0.0005)\n.repartition(2)\n.write.mode(\"overwrite\")\n.saveAsTable(\"hw2.sample\")\n"
    },
    {
      "cell_type": "code",
      "execution_count": 3,
      "metadata": {
        "autoscroll": "auto"
      },
      "outputs": [],
      "source": "\nspark.table(\"hw2.sample\")\n.limit(100)\n.coalesce(1)\n.write.mode(\"overwrite\")\n.saveAsTable(\"hw2.sample_small\")"
    },
    {
      "cell_type": "code",
      "execution_count": 4,
      "metadata": {
        "autoscroll": "auto"
      },
      "outputs": [],
      "source": "\n\nspark.table(\"hw2.events_full\")\n.select(\"event_id\")\n.sample(0.003)\n.repartition(1)\n.write.mode(\"overwrite\")\n.saveAsTable(\"hw2.sample_big\")"
    },
    {
      "cell_type": "code",
      "execution_count": 5,
      "metadata": {
        "autoscroll": "auto"
      },
      "outputs": [],
      "source": "\n\nspark.table(\"hw2.events_full\")\n.select(\"event_id\")\n.sample(0.015)\n.repartition(1)\n.write.mode(\"overwrite\")\n.saveAsTable(\"hw2.sample_very_big\")"
    },
    {
      "cell_type": "markdown",
      "metadata": {},
      "source": "Для упражнений сгрененирован большой набор синтетических данных в таблице hw2.events_full. Из этого набора данных созданы маленькие (относительно исходного набора) таблицы разного размера hw2.sample_[small, big, very_big]. \n\nОтветить на вопросы:\n * какова структура таблиц\n * сколько в них записей \n * сколько места занимают данные\n "
    },
    {
      "cell_type": "code",
      "execution_count": 7,
      "metadata": {
        "autoscroll": "auto"
      },
      "outputs": [],
      "source": "%pyspark\nfrom pyspark.sql.functions import col\n\ntable_list \u003d [\"hw2.sample_small\", \"hw2.sample_big\", \"hw2.sample_very_big\"]\n\nfor table_name in table_list:\n    print \"\\nTable name:\", table_name, \"\\n\\nSchema:\" \n    spark.table(table_name).printSchema()\n    print \"Count:\" \n    spark.table(table_name).count()\n    spark.sql(\"ANALYZE TABLE %s COMPUTE STATISTICS NOSCAN\" % (table_name))\n    spark\\\n    .sql(\"DESCRIBE EXTENDED %s\" %(table_name))\\\n    .filter(col(\"col_name\") \u003d\u003d \"Statistics\")\\\n    .show()"
    },
    {
      "cell_type": "code",
      "execution_count": 8,
      "metadata": {
        "autoscroll": "auto"
      },
      "outputs": [],
      "source": "%sh\n\nhdfs dfs -ls /apps/spark/warehouse/\n"
    },
    {
      "cell_type": "markdown",
      "metadata": {},
      "source": ".\n.\n.\n\nПолучить планы запросов для джойна большой таблицы hw2.events_full с каждой из таблиц hw2.sample, hw2.sample_big, hw2.sample_very_big по полю event_id. В каких случаях используется BroadcastHashJoin? \n\nBroadcastHashJoin автоматически выполняется для джойна с таблицами, размером меньше параметра spark.sql.autoBroadcastJoinThreshold. Узнать его значение можно командой spark.conf.get(\"spark.sql.autoBroadcastJoinThreshold\")."
    },
    {
      "cell_type": "code",
      "execution_count": 10,
      "metadata": {
        "autoscroll": "auto"
      },
      "outputs": [],
      "source": "%pyspark\n\ndf.join(df2, \"key\").explain()"
    },
    {
      "cell_type": "code",
      "execution_count": 11,
      "metadata": {
        "autoscroll": "auto"
      },
      "outputs": [],
      "source": "%pyspark\nspark.conf.get(\u0027spark.sql.autoBroadcastJoinThreshold\u0027)"
    },
    {
      "cell_type": "code",
      "execution_count": 12,
      "metadata": {
        "autoscroll": "auto"
      },
      "outputs": [],
      "source": "%pyspark\ntable_list \u003d [\"hw2.sample_small\", \"hw2.sample_big\", \"hw2.sample_very_big\"]\n\nfor table_name in table_list:\n    print \"\\nTable name:\", table_name, \":\\n\"\n    spark.table(\"hw2.events_full\")\\\n    .join(spark.table(table_name), \"event_id\")\\\n    .explain()"
    },
    {
      "cell_type": "markdown",
      "metadata": {},
      "source": ".\n.\n.\n\nВыполнить джойны с таблицами  hw2.sample,  hw2.sample_big в отдельных параграфах, чтобы узнать время выполнения запросов (например, вызвать .count() для результатов запросов). Время выполнения параграфа считается автоматически и указывается в нижней части по завершении\n\nЗайти в spark ui (ссылку сгенерировать в следующем папраграфе). Сколько tasks создано на каждую операцию? Почему именно столько? Каков DAG вычислений?  "
    },
    {
      "cell_type": "code",
      "execution_count": 14,
      "metadata": {
        "autoscroll": "auto"
      },
      "outputs": [],
      "source": "%pyspark\n\nspark.table(\"hw2.events_full\")\\\n.join(spark.table(\"hw2.sample\"), \"event_id\")\\\n.count()"
    },
    {
      "cell_type": "code",
      "execution_count": 15,
      "metadata": {
        "autoscroll": "auto"
      },
      "outputs": [],
      "source": "%pyspark\n\nspark.table(\"hw2.events_full\")\\\n.join(spark.table(\"hw2.sample_big\"), \"event_id\")\\\n.count()"
    },
    {
      "cell_type": "code",
      "execution_count": 16,
      "metadata": {
        "autoscroll": "auto"
      },
      "outputs": [],
      "source": "println(\"185.241.193.174:8088/proxy/\" + sc.applicationId + \"/jobs/\")"
    },
    {
      "cell_type": "markdown",
      "metadata": {},
      "source": "Создано по 63 таски на каждую операцию. 2 таски на запуск экзекьютора (1 стэйдж). Далее 1 таска (1 стэйдж) для общего подсчета результата и 60 таск (1 стэйдж) на выполнение запросов в каждой партиции"
    },
    {
      "cell_type": "markdown",
      "metadata": {},
      "source": "Оптимизировать джойн с таблицами hw2.sample_big, hw2.sample_very_big с помощью broadcast(df). Выполнить запрос, посмотреть в UI, как поменялся план запроса, DAG, количество тасков. Второй запрос не выполнится "
    },
    {
      "cell_type": "code",
      "execution_count": 19,
      "metadata": {
        "autoscroll": "auto"
      },
      "outputs": [],
      "source": "%pyspark\nfrom pyspark.sql.functions import broadcast\n\n\nspark.table(\"hw2.events_full\")\\\n.join(\n    broadcast(spark.table(\"hw2.sample_big\")), \"event_id\")\\\n.count()\n"
    },
    {
      "cell_type": "code",
      "execution_count": 20,
      "metadata": {
        "autoscroll": "auto"
      },
      "outputs": [],
      "source": "%pyspark\nfrom pyspark.sql.functions import broadcast\n\n\nspark.table(\"hw2.events_full\")\\\n.join(\n    broadcast(spark.table(\"hw2.sample_very_big\")), \"event_id\")\\\n.count()"
    },
    {
      "cell_type": "markdown",
      "metadata": {},
      "source": "Изменений по таскам для первого запроса нет. Т.е. значение переменной броадкаст меньше заданной в настройках. Второй запрос остановился по TimeoutException: Futures timed out after [300 seconds] Интерпретировать могу так, что какая то часть вычисления при выполнении не получила доступ к памяти (из-за нехватки последней) и выпала по таймауту."
    },
    {
      "cell_type": "markdown",
      "metadata": {},
      "source": ".\n.\n.\n\nОтключить автоматический броадкаст командой spark.conf.set(\"spark.sql.autoBroadcastJoinThreshold\", \"-1\"). Сделать джойн с семплом hw2.sample, сравнить время выполнения запроса.\n"
    },
    {
      "cell_type": "code",
      "execution_count": 23,
      "metadata": {
        "autoscroll": "auto"
      },
      "outputs": [],
      "source": "%pyspark\nspark.conf.set(\"spark.sql.autoBroadcastJoinThreshold\", \"-1\")\n\nfrom pyspark.sql.functions import broadcast\n\n\nspark.table(\"hw2.events_full\")\\\n.join(\n    broadcast(spark.table(\"hw2.sample\")), \"event_id\")\\\n.count()"
    },
    {
      "cell_type": "markdown",
      "metadata": {},
      "source": "Очистил кеш и провел еще несколько раз цикл (чтобы исключить влияние сторонних факторов). Разница в выполнении составила около 4 секунд (отключенный автоматический бродкаст быстрее). \nМожет должен был сделать какие то более глубокие выводы, но на ум ничег обольше не пришло"
    },
    {
      "cell_type": "code",
      "execution_count": 25,
      "metadata": {
        "autoscroll": "auto"
      },
      "outputs": [],
      "source": "spark.conf.set(\"spark.sql.autoBroadcastJoinThreshold\", \"26214400\")"
    },
    {
      "cell_type": "code",
      "execution_count": 26,
      "metadata": {
        "autoscroll": "auto"
      },
      "outputs": [],
      "source": "spark.sql(\"clear cache\")"
    },
    {
      "cell_type": "markdown",
      "metadata": {},
      "source": ".\n.\n.\n\nВ процессе обработки данных может возникнуть перекос объёма партиций по количеству данных (data skew). В таком случае время выполнения запроса может существенно увеличиться, так как данные распределятся по исполнителям неравномерно. В следующем параграфе происходит инициализация датафрейма, этот параграф нужно выполнить, изменять код нельзя. В задании нужно работать с инициализированным датафреймом.\n\nДатафрейм разделен на 30 партиций по ключу city, который имеет сильно  неравномерное распределение."
    },
    {
      "cell_type": "code",
      "execution_count": 28,
      "metadata": {
        "autoscroll": "auto"
      },
      "outputs": [],
      "source": "%pyspark \nfrom pyspark.sql.functions import col\n\nskew_df \u003d spark.table(\"hw2.events_full\")\\\n.where(\"date \u003d \u00272020-11-01\u0027\")\\\n.repartition(30, col(\"city\"))\\\n.cache()\n\nskew_df.count()"
    },
    {
      "cell_type": "markdown",
      "metadata": {},
      "source": ".\n.\n.\n\nПосчитать количество event_count различных событий event_id , содержащихся в skew_df с группировкой по городам. Результат упорядочить по event_count.\n\nВ spark ui в разделе jobs выбрать последнюю, в ней зайти в stage, состоящую из 30 тасков (из такого количества партиций состоит skew_df). На странице стейджа нажать кнопку Event Timeline и увидеть время выполнения тасков по экзекьюторам. Одному из них выпала партиция с существенно большим количеством данных. Остальные экзекьюторы в это время бездействуют -- это и является проблемой, которую предлагается решить далее."
    },
    {
      "cell_type": "code",
      "execution_count": 30,
      "metadata": {
        "autoscroll": "auto"
      },
      "outputs": [],
      "source": "%pyspark\n\nskew_df.show()"
    },
    {
      "cell_type": "code",
      "execution_count": 31,
      "metadata": {
        "autoscroll": "auto"
      },
      "outputs": [],
      "source": "%pyspark\n\n\nskew_df\\\n    .groupBy(\"city\")\\\n    .count()\\\n    .orderBy(col(\"count\"))\\\n    .show()"
    },
    {
      "cell_type": "markdown",
      "metadata": {},
      "source": ".\n.\n.\n\nодин из способов решения проблемы агрегации по неравномерно распределенному ключу является предварительное перемешивание данных. Его можно сделать с помощью метода repartition(p_num), где p_num -- количество партиций, на которые будет перемешан исходный датафрейм"
    },
    {
      "cell_type": "code",
      "execution_count": 33,
      "metadata": {
        "autoscroll": "auto"
      },
      "outputs": [],
      "source": "%pyspark\n\nskew_df_r \u003d skew_df.repartition(30).cache()\n"
    },
    {
      "cell_type": "code",
      "execution_count": 34,
      "metadata": {
        "autoscroll": "auto"
      },
      "outputs": [],
      "source": "%pyspark\n\nskew_df_r\\\n    .groupBy(\"city\")\\\n    .count()\\\n    .orderBy(col(\"count\"))\\\n    .show()"
    },
    {
      "cell_type": "markdown",
      "metadata": {},
      "source": "наблюдается изменение в виде равномерного времени выполнения по партициям и равномерная загрузка экзекьюторов"
    },
    {
      "cell_type": "markdown",
      "metadata": {},
      "source": ".\n.\n.\nДругой способ исправить неравномерность по ключу -- создание синтетического ключа с равномерным распределением. В нашем случае неравномерность исходит от единственного значения city\u003d\u0027BIG_CITY\u0027, которое часто повторяется в данных и при группировке попадает к одному экзекьютору. В таком случае лучше провести группировку в два этапа по синтетическому ключу CITY_SALT, который принимает значение BIG_CITY_rand (rand -- случайное целое число) для популярного значения BIG_CITY и CITY для остальных значений. На втором этапе восстанавливаем значения CITY и проводим повторную агрегацию, которая не занимает времени, потому что проводится по существенно меньшего размера данным. \n\nТакая же техника применима и к джойнам по неравномерному ключу, см, например https://itnext.io/handling-data-skew-in-apache-spark-9f56343e58e8\n\nЧто нужно реализовать:\n* добавить синтетический ключ\n* группировка по синтетическому ключу\n* восстановление исходного значения\n* группировка по исходной колонке"
    },
    {
      "cell_type": "code",
      "execution_count": 37,
      "metadata": {
        "autoscroll": "auto"
      },
      "outputs": [],
      "source": "%pyspark\nfrom pyspark.sql.functions import monotonically_increasing_id, when, rand, round, expr, lit, sum\n\nsalt_size \u003d 10\n\nskew_df.withColumn(\"salt_index\", round(100 * rand()) )\\\n.withColumn(\"city_salt\", when(col(\"city\") \u003d\u003d \"BIG_CITY\", expr(\"CONCAT(city, salt_index)\")).otherwise(col(\"city\")))\\\n.groupBy(\"city_salt\")\\\n.agg(countDistinct(\"event_id\").alias(\"count\"))\\\n.withColumn(\"city\", when(expr(\"city_salt not like \u0027SMALL%\u0027\"), lit(\"BIG_CITY\")).otherwise(col(\"city_salt\")))\\\n.groupBy(\"city\")\\\n.agg(sum(\"count\").alias(\"count\"))\\\n.orderBy(col(\"count\"), ascending\u003dFalse)\\\n.show()"
    },
    {
      "cell_type": "markdown",
      "metadata": {},
      "source": "присутствует равномерная загрузка \n"
    },
    {
      "cell_type": "code",
      "execution_count": 39,
      "metadata": {
        "autoscroll": "auto"
      },
      "outputs": [],
      "source": "spark.stop"
    }
  ]
}